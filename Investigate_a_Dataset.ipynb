{
 "cells": [
  {
   "cell_type": "markdown",
   "metadata": {
    "tags": []
   },
   "source": [
    "# Project: Investigate a Dataset - [TMDb Movie Data]\n",
    "\n",
    "## Table of Contents\n",
    "<ul>\n",
    "<li><a href=\"#intro\">Introduction</a></li>\n",
    "<li><a href=\"#wrangling\">Data Wrangling</a></li>\n",
    "<li><a href=\"#eda\">Exploratory Data Analysis</a></li>\n",
    "<li><a href=\"#conclusions\">Conclusions</a></li>\n",
    "</ul>"
   ]
  },
  {
   "cell_type": "markdown",
   "metadata": {},
   "source": [
    "<a id='intro'></a>\n",
    "\n",
    "## Introduction\n",
    "\n",
    "### Dataset Description\n",
    "\n",
    "This project analyzes the **TMDb Movie Dataset**, which contains information on approximately **10,000 movies** collected from **The Movie Database (TMDb)**. The dataset includes details about movies such as titles, genres, production companies, budgets, revenues, user ratings and more.\n",
    "\n",
    "---\n",
    "\n",
    "### Column Names & Their Significance\n",
    "\n",
    "The dataset consists of a **single table** with **21 columns**, where each row represents a **unique movie**. Below is a breakdown of these columns:\n",
    "\n",
    "#### **1. Movie Identification**\n",
    "- **`id`** - Unique identifier for each movie.\n",
    "- **`imdb_id`** - Unique identifier assigned by IMDb.\n",
    "\n",
    "#### **2. Movie Information**\n",
    "- **`original_title`** - The original title of the movie.\n",
    "- **`release_date`** - The date when the movie was released.\n",
    "- **`runtime`** - The total duration of the movie in minutes.\n",
    "- **`overview`** - A short description summarizing the movie.\n",
    "- **`keywords`** - Important keywords associated with the movie.\n",
    "\n",
    "#### **3. Cast & Production Details**\n",
    "- **`cast`** - The main actors in the movie.\n",
    "- **`director`** - The director of the movie.\n",
    "- **`genres`** - The genre(s) of the movie (e.g., Action, Comedy).\n",
    "- **`production_companies`** - The companies responsible for producing the movie.\n",
    "\n",
    "#### **4. Financial Data**\n",
    "- **`budget`** - The production budget of the movie (in USD).\n",
    "- **`revenue`** - The total earnings of the movie (in USD).\n",
    "- **`budget_adj` & `revenue_adj`** - Budget and revenue adjusted for inflation in 2010 dollars.\n",
    "\n",
    "#### **5. Popularity & Ratings**\n",
    "- **`popularity`** - A score representing how popular a movie was.\n",
    "- **`vote_count`** - The total number of votes submitted by users.\n",
    "- **`vote_average`** - The average rating given by users.\n",
    "\n",
    "#### **6. Additional Metadata**\n",
    "- **`release_year`** - The year the movie was released.\n",
    "- **`tagline`** - A short promotional phrase for the movie.\n",
    "- **`homepage`** - The official website of the movie.\n",
    "\n",
    "\n",
    "---\n",
    "\n",
    "### Relationship Between Tables\n",
    "\n",
    "Since the dataset consists of a **single table**, there are no separate linked tables. However, some columns, such as **`genres`**, **`cast`**, and **`production_companies`**, contain **multiple values separated by a pipe (`|`)**. This means that a movie can belong to multiple genres, have multiple actors, or be produced by multiple companies.\n",
    "\n",
    "To analyze these **multi-value columns**, we may need to **split them into separate records** or perform string-based filtering. This will allow us to gain deeper insights into **which genres are most successful, how different directors perform, and which actors contribute to high-grossing movies**.\n",
    "\n",
    "---\n",
    "\n",
    "### Questions for Analysis\n",
    "\n",
    "The primary questions we aim to answer in this analysis are:  \n",
    "\n",
    "1. Which genres are most popular from year to year?\n",
    "2. What kinds of properties are associated with movies that have high revenues? \n",
    "---"
   ]
  },
  {
   "cell_type": "markdown",
   "metadata": {},
   "source": [
    "<a id='wrangling'></a>\n",
    "## Data Wrangling\n",
    "\n",
    "### Importing Libraries & Loading the Dataset\n",
    "\n",
    "To begin the analysis, we imported essential Python libraries and loaded the TMDb dataset.\n"
   ]
  },
  {
   "cell_type": "code",
   "execution_count": 180,
   "metadata": {
    "tags": []
   },
   "outputs": [],
   "source": [
    "# Import libraries\n",
    "import pandas as pd\n",
    "import numpy as np\n",
    "import matplotlib.pyplot as plt\n",
    "import seaborn as sns"
   ]
  },
  {
   "cell_type": "code",
   "execution_count": 181,
   "metadata": {
    "scrolled": true,
    "tags": []
   },
   "outputs": [],
   "source": [
    "# Load the dataset\n",
    "df = pd.read_csv(\"tmdb-movies.csv\")"
   ]
  },
  {
   "cell_type": "markdown",
   "metadata": {},
   "source": [
    "---\n",
    "### General Properties\n",
    "\n",
    "To understand the structure of the dataset before cleaning, we will explore its basic properties:\n",
    "\n",
    "- **Size of the dataset**: Number of rows and columns.\n",
    "- **Column names and data types**: Checking the types of data stored in each column.\n",
    "- **Missing values**: Identifying any columns with null values.\n",
    "- **Duplicates**: Checking if the dataset contains duplicate rows."
   ]
  },
  {
   "cell_type": "code",
   "execution_count": 182,
   "metadata": {},
   "outputs": [
    {
     "data": {
      "text/html": [
       "<div>\n",
       "<style scoped>\n",
       "    .dataframe tbody tr th:only-of-type {\n",
       "        vertical-align: middle;\n",
       "    }\n",
       "\n",
       "    .dataframe tbody tr th {\n",
       "        vertical-align: top;\n",
       "    }\n",
       "\n",
       "    .dataframe thead th {\n",
       "        text-align: right;\n",
       "    }\n",
       "</style>\n",
       "<table border=\"1\" class=\"dataframe\">\n",
       "  <thead>\n",
       "    <tr style=\"text-align: right;\">\n",
       "      <th></th>\n",
       "      <th>id</th>\n",
       "      <th>imdb_id</th>\n",
       "      <th>popularity</th>\n",
       "      <th>budget</th>\n",
       "      <th>revenue</th>\n",
       "      <th>original_title</th>\n",
       "      <th>cast</th>\n",
       "      <th>homepage</th>\n",
       "      <th>director</th>\n",
       "      <th>tagline</th>\n",
       "      <th>...</th>\n",
       "      <th>overview</th>\n",
       "      <th>runtime</th>\n",
       "      <th>genres</th>\n",
       "      <th>production_companies</th>\n",
       "      <th>release_date</th>\n",
       "      <th>vote_count</th>\n",
       "      <th>vote_average</th>\n",
       "      <th>release_year</th>\n",
       "      <th>budget_adj</th>\n",
       "      <th>revenue_adj</th>\n",
       "    </tr>\n",
       "  </thead>\n",
       "  <tbody>\n",
       "    <tr>\n",
       "      <th>0</th>\n",
       "      <td>135397</td>\n",
       "      <td>tt0369610</td>\n",
       "      <td>32.985763</td>\n",
       "      <td>150000000</td>\n",
       "      <td>1513528810</td>\n",
       "      <td>Jurassic World</td>\n",
       "      <td>Chris Pratt|Bryce Dallas Howard|Irrfan Khan|Vi...</td>\n",
       "      <td>http://www.jurassicworld.com/</td>\n",
       "      <td>Colin Trevorrow</td>\n",
       "      <td>The park is open.</td>\n",
       "      <td>...</td>\n",
       "      <td>Twenty-two years after the events of Jurassic ...</td>\n",
       "      <td>124</td>\n",
       "      <td>Action|Adventure|Science Fiction|Thriller</td>\n",
       "      <td>Universal Studios|Amblin Entertainment|Legenda...</td>\n",
       "      <td>6/9/15</td>\n",
       "      <td>5562</td>\n",
       "      <td>6.5</td>\n",
       "      <td>2015</td>\n",
       "      <td>1.379999e+08</td>\n",
       "      <td>1.392446e+09</td>\n",
       "    </tr>\n",
       "    <tr>\n",
       "      <th>1</th>\n",
       "      <td>76341</td>\n",
       "      <td>tt1392190</td>\n",
       "      <td>28.419936</td>\n",
       "      <td>150000000</td>\n",
       "      <td>378436354</td>\n",
       "      <td>Mad Max: Fury Road</td>\n",
       "      <td>Tom Hardy|Charlize Theron|Hugh Keays-Byrne|Nic...</td>\n",
       "      <td>http://www.madmaxmovie.com/</td>\n",
       "      <td>George Miller</td>\n",
       "      <td>What a Lovely Day.</td>\n",
       "      <td>...</td>\n",
       "      <td>An apocalyptic story set in the furthest reach...</td>\n",
       "      <td>120</td>\n",
       "      <td>Action|Adventure|Science Fiction|Thriller</td>\n",
       "      <td>Village Roadshow Pictures|Kennedy Miller Produ...</td>\n",
       "      <td>5/13/15</td>\n",
       "      <td>6185</td>\n",
       "      <td>7.1</td>\n",
       "      <td>2015</td>\n",
       "      <td>1.379999e+08</td>\n",
       "      <td>3.481613e+08</td>\n",
       "    </tr>\n",
       "    <tr>\n",
       "      <th>2</th>\n",
       "      <td>262500</td>\n",
       "      <td>tt2908446</td>\n",
       "      <td>13.112507</td>\n",
       "      <td>110000000</td>\n",
       "      <td>295238201</td>\n",
       "      <td>Insurgent</td>\n",
       "      <td>Shailene Woodley|Theo James|Kate Winslet|Ansel...</td>\n",
       "      <td>http://www.thedivergentseries.movie/#insurgent</td>\n",
       "      <td>Robert Schwentke</td>\n",
       "      <td>One Choice Can Destroy You</td>\n",
       "      <td>...</td>\n",
       "      <td>Beatrice Prior must confront her inner demons ...</td>\n",
       "      <td>119</td>\n",
       "      <td>Adventure|Science Fiction|Thriller</td>\n",
       "      <td>Summit Entertainment|Mandeville Films|Red Wago...</td>\n",
       "      <td>3/18/15</td>\n",
       "      <td>2480</td>\n",
       "      <td>6.3</td>\n",
       "      <td>2015</td>\n",
       "      <td>1.012000e+08</td>\n",
       "      <td>2.716190e+08</td>\n",
       "    </tr>\n",
       "    <tr>\n",
       "      <th>3</th>\n",
       "      <td>140607</td>\n",
       "      <td>tt2488496</td>\n",
       "      <td>11.173104</td>\n",
       "      <td>200000000</td>\n",
       "      <td>2068178225</td>\n",
       "      <td>Star Wars: The Force Awakens</td>\n",
       "      <td>Harrison Ford|Mark Hamill|Carrie Fisher|Adam D...</td>\n",
       "      <td>http://www.starwars.com/films/star-wars-episod...</td>\n",
       "      <td>J.J. Abrams</td>\n",
       "      <td>Every generation has a story.</td>\n",
       "      <td>...</td>\n",
       "      <td>Thirty years after defeating the Galactic Empi...</td>\n",
       "      <td>136</td>\n",
       "      <td>Action|Adventure|Science Fiction|Fantasy</td>\n",
       "      <td>Lucasfilm|Truenorth Productions|Bad Robot</td>\n",
       "      <td>12/15/15</td>\n",
       "      <td>5292</td>\n",
       "      <td>7.5</td>\n",
       "      <td>2015</td>\n",
       "      <td>1.839999e+08</td>\n",
       "      <td>1.902723e+09</td>\n",
       "    </tr>\n",
       "    <tr>\n",
       "      <th>4</th>\n",
       "      <td>168259</td>\n",
       "      <td>tt2820852</td>\n",
       "      <td>9.335014</td>\n",
       "      <td>190000000</td>\n",
       "      <td>1506249360</td>\n",
       "      <td>Furious 7</td>\n",
       "      <td>Vin Diesel|Paul Walker|Jason Statham|Michelle ...</td>\n",
       "      <td>http://www.furious7.com/</td>\n",
       "      <td>James Wan</td>\n",
       "      <td>Vengeance Hits Home</td>\n",
       "      <td>...</td>\n",
       "      <td>Deckard Shaw seeks revenge against Dominic Tor...</td>\n",
       "      <td>137</td>\n",
       "      <td>Action|Crime|Thriller</td>\n",
       "      <td>Universal Pictures|Original Film|Media Rights ...</td>\n",
       "      <td>4/1/15</td>\n",
       "      <td>2947</td>\n",
       "      <td>7.3</td>\n",
       "      <td>2015</td>\n",
       "      <td>1.747999e+08</td>\n",
       "      <td>1.385749e+09</td>\n",
       "    </tr>\n",
       "  </tbody>\n",
       "</table>\n",
       "<p>5 rows × 21 columns</p>\n",
       "</div>"
      ],
      "text/plain": [
       "       id    imdb_id  popularity     budget     revenue  \\\n",
       "0  135397  tt0369610   32.985763  150000000  1513528810   \n",
       "1   76341  tt1392190   28.419936  150000000   378436354   \n",
       "2  262500  tt2908446   13.112507  110000000   295238201   \n",
       "3  140607  tt2488496   11.173104  200000000  2068178225   \n",
       "4  168259  tt2820852    9.335014  190000000  1506249360   \n",
       "\n",
       "                 original_title  \\\n",
       "0                Jurassic World   \n",
       "1            Mad Max: Fury Road   \n",
       "2                     Insurgent   \n",
       "3  Star Wars: The Force Awakens   \n",
       "4                     Furious 7   \n",
       "\n",
       "                                                cast  \\\n",
       "0  Chris Pratt|Bryce Dallas Howard|Irrfan Khan|Vi...   \n",
       "1  Tom Hardy|Charlize Theron|Hugh Keays-Byrne|Nic...   \n",
       "2  Shailene Woodley|Theo James|Kate Winslet|Ansel...   \n",
       "3  Harrison Ford|Mark Hamill|Carrie Fisher|Adam D...   \n",
       "4  Vin Diesel|Paul Walker|Jason Statham|Michelle ...   \n",
       "\n",
       "                                            homepage          director  \\\n",
       "0                      http://www.jurassicworld.com/   Colin Trevorrow   \n",
       "1                        http://www.madmaxmovie.com/     George Miller   \n",
       "2     http://www.thedivergentseries.movie/#insurgent  Robert Schwentke   \n",
       "3  http://www.starwars.com/films/star-wars-episod...       J.J. Abrams   \n",
       "4                           http://www.furious7.com/         James Wan   \n",
       "\n",
       "                         tagline  ...  \\\n",
       "0              The park is open.  ...   \n",
       "1             What a Lovely Day.  ...   \n",
       "2     One Choice Can Destroy You  ...   \n",
       "3  Every generation has a story.  ...   \n",
       "4            Vengeance Hits Home  ...   \n",
       "\n",
       "                                            overview runtime  \\\n",
       "0  Twenty-two years after the events of Jurassic ...     124   \n",
       "1  An apocalyptic story set in the furthest reach...     120   \n",
       "2  Beatrice Prior must confront her inner demons ...     119   \n",
       "3  Thirty years after defeating the Galactic Empi...     136   \n",
       "4  Deckard Shaw seeks revenge against Dominic Tor...     137   \n",
       "\n",
       "                                      genres  \\\n",
       "0  Action|Adventure|Science Fiction|Thriller   \n",
       "1  Action|Adventure|Science Fiction|Thriller   \n",
       "2         Adventure|Science Fiction|Thriller   \n",
       "3   Action|Adventure|Science Fiction|Fantasy   \n",
       "4                      Action|Crime|Thriller   \n",
       "\n",
       "                                production_companies release_date vote_count  \\\n",
       "0  Universal Studios|Amblin Entertainment|Legenda...       6/9/15       5562   \n",
       "1  Village Roadshow Pictures|Kennedy Miller Produ...      5/13/15       6185   \n",
       "2  Summit Entertainment|Mandeville Films|Red Wago...      3/18/15       2480   \n",
       "3          Lucasfilm|Truenorth Productions|Bad Robot     12/15/15       5292   \n",
       "4  Universal Pictures|Original Film|Media Rights ...       4/1/15       2947   \n",
       "\n",
       "   vote_average  release_year    budget_adj   revenue_adj  \n",
       "0           6.5          2015  1.379999e+08  1.392446e+09  \n",
       "1           7.1          2015  1.379999e+08  3.481613e+08  \n",
       "2           6.3          2015  1.012000e+08  2.716190e+08  \n",
       "3           7.5          2015  1.839999e+08  1.902723e+09  \n",
       "4           7.3          2015  1.747999e+08  1.385749e+09  \n",
       "\n",
       "[5 rows x 21 columns]"
      ]
     },
     "execution_count": 182,
     "metadata": {},
     "output_type": "execute_result"
    }
   ],
   "source": [
    "# To confirm the dataset is loaded\n",
    "df.head()"
   ]
  },
  {
   "cell_type": "code",
   "execution_count": 183,
   "metadata": {},
   "outputs": [
    {
     "data": {
      "text/plain": [
       "(10866, 21)"
      ]
     },
     "execution_count": 183,
     "metadata": {},
     "output_type": "execute_result"
    }
   ],
   "source": [
    "# Check the number of rows and columns\n",
    "df.shape"
   ]
  },
  {
   "cell_type": "markdown",
   "metadata": {},
   "source": [
    "#### Dataset Size:\n",
    "- The dataset contains **10,866 rows** and **21 columns**.\n",
    "- This gives us an idea of how much data we are working with."
   ]
  },
  {
   "cell_type": "code",
   "execution_count": 184,
   "metadata": {
    "scrolled": true
   },
   "outputs": [
    {
     "name": "stdout",
     "output_type": "stream",
     "text": [
      "<class 'pandas.core.frame.DataFrame'>\n",
      "RangeIndex: 10866 entries, 0 to 10865\n",
      "Data columns (total 21 columns):\n",
      " #   Column                Non-Null Count  Dtype  \n",
      "---  ------                --------------  -----  \n",
      " 0   id                    10866 non-null  int64  \n",
      " 1   imdb_id               10856 non-null  object \n",
      " 2   popularity            10866 non-null  float64\n",
      " 3   budget                10866 non-null  int64  \n",
      " 4   revenue               10866 non-null  int64  \n",
      " 5   original_title        10866 non-null  object \n",
      " 6   cast                  10790 non-null  object \n",
      " 7   homepage              2936 non-null   object \n",
      " 8   director              10822 non-null  object \n",
      " 9   tagline               8042 non-null   object \n",
      " 10  keywords              9373 non-null   object \n",
      " 11  overview              10862 non-null  object \n",
      " 12  runtime               10866 non-null  int64  \n",
      " 13  genres                10843 non-null  object \n",
      " 14  production_companies  9836 non-null   object \n",
      " 15  release_date          10866 non-null  object \n",
      " 16  vote_count            10866 non-null  int64  \n",
      " 17  vote_average          10866 non-null  float64\n",
      " 18  release_year          10866 non-null  int64  \n",
      " 19  budget_adj            10866 non-null  float64\n",
      " 20  revenue_adj           10866 non-null  float64\n",
      "dtypes: float64(4), int64(6), object(11)\n",
      "memory usage: 1.7+ MB\n"
     ]
    }
   ],
   "source": [
    "# Check column names, data types, and missing values\n",
    "df.info()"
   ]
  },
  {
   "cell_type": "markdown",
   "metadata": {},
   "source": [
    "#### Column Names & Data Types:\n",
    "- The dataset contains **21 columns** with various data types.\n",
    "- Some columns have **missing values**, which need further investigation.\n",
    "- We will determine whether to **fill or drop** missing values in the next steps."
   ]
  },
  {
   "cell_type": "code",
   "execution_count": 185,
   "metadata": {
    "scrolled": false
   },
   "outputs": [
    {
     "data": {
      "text/plain": [
       "id                         0\n",
       "imdb_id                   10\n",
       "popularity                 0\n",
       "budget                     0\n",
       "revenue                    0\n",
       "original_title             0\n",
       "cast                      76\n",
       "homepage                7930\n",
       "director                  44\n",
       "tagline                 2824\n",
       "keywords                1493\n",
       "overview                   4\n",
       "runtime                    0\n",
       "genres                    23\n",
       "production_companies    1030\n",
       "release_date               0\n",
       "vote_count                 0\n",
       "vote_average               0\n",
       "release_year               0\n",
       "budget_adj                 0\n",
       "revenue_adj                0\n",
       "dtype: int64"
      ]
     },
     "execution_count": 185,
     "metadata": {},
     "output_type": "execute_result"
    }
   ],
   "source": [
    "# Count missing values in each column\n",
    "df.isnull().sum()"
   ]
  },
  {
   "cell_type": "markdown",
   "metadata": {},
   "source": [
    "#### Missing Values:\n",
    "- Some columns have missing values.\n",
    "- We will decide how to handle them (remove or fill) based on their importance."
   ]
  },
  {
   "cell_type": "code",
   "execution_count": 186,
   "metadata": {},
   "outputs": [
    {
     "data": {
      "text/plain": [
       "1"
      ]
     },
     "execution_count": 186,
     "metadata": {},
     "output_type": "execute_result"
    }
   ],
   "source": [
    "# Check for duplicates\n",
    "df.duplicated().sum()"
   ]
  },
  {
   "cell_type": "markdown",
   "metadata": {},
   "source": [
    "#### Duplicate Rows:\n",
    "- The dataset contains **1 duplicated row**.\n",
    "- If necessary, we will remove it to avoid redundancy.\n",
    "---"
   ]
  },
  {
   "cell_type": "markdown",
   "metadata": {},
   "source": [
    "### Data Cleaning\n",
    "\n",
    "#### Issues Identified:\n",
    "To ensure the dataset is clean and ready for analysis, we performed several data cleaning steps.\n",
    "\n",
    "\n",
    "#### 1. Handling Missing Values  \n",
    "\n",
    "Some columns contain a **large number of missing values** or are **not useful for our analysis**. We addressed missing values using the following steps:  \n",
    "\n",
    "- Dropped columns with too many missing values.\n",
    "- Removed columns that will not be used in our analysis.\n",
    "- Dropped rows where critical columns have missing values.\n",
    "\n",
    "\n",
    "\n",
    "#### 2. Fixing & Optimizing Data Types \n",
    "To ensure correct data formatting:  \n",
    "\n",
    "- Converted release_date from object to datetime format.  \n",
    "- Ensured **budget, revenue, and other numerical fields** were stored as numeric values.\n",
    "\n",
    "Some columns contain a **small range of values** but are stored in unnecessarily large data types. To **optimize memory usage**, we:  \n",
    "\n",
    "- Converted columns with a small range to more efficient data types. \n",
    "\n",
    "\n",
    "\n",
    "\n",
    "#### 3. Removing Duplicate Rows  \n",
    "\n",
    "The dataset contains **1 duplicated row**, which was removed to prevent redundancy.  \n",
    "\n",
    "\n",
    "\n",
    "#### 4. Final Check \n",
    "After completing these cleaning steps, we verified:  \n",
    "\n",
    "- **No missing values remain in critical columns.**  \n",
    "- **Data types are correctly formatted.**  \n",
    "- **The dataset is free of duplicates.**  \n",
    "\n"
   ]
  },
  {
   "cell_type": "markdown",
   "metadata": {},
   "source": [
    "### Handling Missing Values "
   ]
  },
  {
   "cell_type": "code",
   "execution_count": 187,
   "metadata": {
    "scrolled": false
   },
   "outputs": [
    {
     "data": {
      "text/plain": [
       "id                         0\n",
       "imdb_id                   10\n",
       "popularity                 0\n",
       "budget                     0\n",
       "revenue                    0\n",
       "original_title             0\n",
       "cast                      76\n",
       "homepage                7930\n",
       "director                  44\n",
       "tagline                 2824\n",
       "keywords                1493\n",
       "overview                   4\n",
       "runtime                    0\n",
       "genres                    23\n",
       "production_companies    1030\n",
       "release_date               0\n",
       "vote_count                 0\n",
       "vote_average               0\n",
       "release_year               0\n",
       "budget_adj                 0\n",
       "revenue_adj                0\n",
       "dtype: int64"
      ]
     },
     "execution_count": 187,
     "metadata": {},
     "output_type": "execute_result"
    }
   ],
   "source": [
    "# Display columns with missing values again before deciding how to handle them\n",
    "df.isnull().sum()"
   ]
  },
  {
   "cell_type": "code",
   "execution_count": 188,
   "metadata": {},
   "outputs": [],
   "source": [
    "# Drop 'homepage' and 'tagline' columns as they have too many missing values and are not useful for the analysis\n",
    "df.drop(columns=['homepage', 'tagline'], inplace=True)"
   ]
  },
  {
   "cell_type": "code",
   "execution_count": 189,
   "metadata": {},
   "outputs": [],
   "source": [
    "# Drop unnecessary columns that will not be used in the analysis\n",
    "df.drop(columns=['overview', 'keywords', 'imdb_id', 'cast', 'production_companies'], inplace=True)"
   ]
  },
  {
   "cell_type": "code",
   "execution_count": 190,
   "metadata": {},
   "outputs": [],
   "source": [
    "# Drop rows where critical columns have missing values\n",
    "df.dropna(subset=['genres', 'director'], inplace=True)"
   ]
  },
  {
   "cell_type": "code",
   "execution_count": 191,
   "metadata": {
    "scrolled": false
   },
   "outputs": [
    {
     "data": {
      "text/plain": [
       "id                0\n",
       "popularity        0\n",
       "budget            0\n",
       "revenue           0\n",
       "original_title    0\n",
       "director          0\n",
       "runtime           0\n",
       "genres            0\n",
       "release_date      0\n",
       "vote_count        0\n",
       "vote_average      0\n",
       "release_year      0\n",
       "budget_adj        0\n",
       "revenue_adj       0\n",
       "dtype: int64"
      ]
     },
     "execution_count": 191,
     "metadata": {},
     "output_type": "execute_result"
    }
   ],
   "source": [
    "df.isnull().sum()"
   ]
  },
  {
   "cell_type": "markdown",
   "metadata": {},
   "source": [
    "### Fixing & Optimizing Data Types  "
   ]
  },
  {
   "cell_type": "code",
   "execution_count": 192,
   "metadata": {
    "scrolled": true
   },
   "outputs": [
    {
     "data": {
      "text/plain": [
       "id                  int64\n",
       "popularity        float64\n",
       "budget              int64\n",
       "revenue             int64\n",
       "original_title     object\n",
       "director           object\n",
       "runtime             int64\n",
       "genres             object\n",
       "release_date       object\n",
       "vote_count          int64\n",
       "vote_average      float64\n",
       "release_year        int64\n",
       "budget_adj        float64\n",
       "revenue_adj       float64\n",
       "dtype: object"
      ]
     },
     "execution_count": 192,
     "metadata": {},
     "output_type": "execute_result"
    }
   ],
   "source": [
    "# Check data types\n",
    "df.dtypes"
   ]
  },
  {
   "cell_type": "code",
   "execution_count": 193,
   "metadata": {},
   "outputs": [],
   "source": [
    "# Convert 'release_date' to datetime format\n",
    "df['release_date'] = pd.to_datetime(df['release_date'])"
   ]
  },
  {
   "cell_type": "code",
   "execution_count": 194,
   "metadata": {},
   "outputs": [],
   "source": [
    "# Convert columns with a small range of values to more efficient data types\n",
    "df['vote_count'] = df['vote_count'].astype('int32')\n",
    "df['runtime'] = df['runtime'].astype('int16')"
   ]
  },
  {
   "cell_type": "code",
   "execution_count": 195,
   "metadata": {
    "scrolled": true
   },
   "outputs": [
    {
     "data": {
      "text/plain": [
       "id                         int64\n",
       "popularity               float64\n",
       "budget                     int64\n",
       "revenue                    int64\n",
       "original_title            object\n",
       "director                  object\n",
       "runtime                    int16\n",
       "genres                    object\n",
       "release_date      datetime64[ns]\n",
       "vote_count                 int32\n",
       "vote_average             float64\n",
       "release_year               int64\n",
       "budget_adj               float64\n",
       "revenue_adj              float64\n",
       "dtype: object"
      ]
     },
     "execution_count": 195,
     "metadata": {},
     "output_type": "execute_result"
    }
   ],
   "source": [
    "df.dtypes"
   ]
  },
  {
   "cell_type": "markdown",
   "metadata": {},
   "source": [
    "### Removing Duplicate Rows  "
   ]
  },
  {
   "cell_type": "code",
   "execution_count": 196,
   "metadata": {},
   "outputs": [],
   "source": [
    "# Drop duplicate rows\n",
    "df.drop_duplicates(inplace=True)"
   ]
  },
  {
   "cell_type": "markdown",
   "metadata": {},
   "source": [
    "### Final Check"
   ]
  },
  {
   "cell_type": "code",
   "execution_count": 197,
   "metadata": {
    "scrolled": true
   },
   "outputs": [
    {
     "name": "stdout",
     "output_type": "stream",
     "text": [
      "<class 'pandas.core.frame.DataFrame'>\n",
      "Int64Index: 10800 entries, 0 to 10865\n",
      "Data columns (total 14 columns):\n",
      " #   Column          Non-Null Count  Dtype         \n",
      "---  ------          --------------  -----         \n",
      " 0   id              10800 non-null  int64         \n",
      " 1   popularity      10800 non-null  float64       \n",
      " 2   budget          10800 non-null  int64         \n",
      " 3   revenue         10800 non-null  int64         \n",
      " 4   original_title  10800 non-null  object        \n",
      " 5   director        10800 non-null  object        \n",
      " 6   runtime         10800 non-null  int16         \n",
      " 7   genres          10800 non-null  object        \n",
      " 8   release_date    10800 non-null  datetime64[ns]\n",
      " 9   vote_count      10800 non-null  int32         \n",
      " 10  vote_average    10800 non-null  float64       \n",
      " 11  release_year    10800 non-null  int64         \n",
      " 12  budget_adj      10800 non-null  float64       \n",
      " 13  revenue_adj     10800 non-null  float64       \n",
      "dtypes: datetime64[ns](1), float64(4), int16(1), int32(1), int64(4), object(3)\n",
      "memory usage: 1.1+ MB\n"
     ]
    }
   ],
   "source": [
    "df.info()"
   ]
  },
  {
   "cell_type": "code",
   "execution_count": 198,
   "metadata": {
    "scrolled": true
   },
   "outputs": [
    {
     "data": {
      "text/plain": [
       "id                0\n",
       "popularity        0\n",
       "budget            0\n",
       "revenue           0\n",
       "original_title    0\n",
       "director          0\n",
       "runtime           0\n",
       "genres            0\n",
       "release_date      0\n",
       "vote_count        0\n",
       "vote_average      0\n",
       "release_year      0\n",
       "budget_adj        0\n",
       "revenue_adj       0\n",
       "dtype: int64"
      ]
     },
     "execution_count": 198,
     "metadata": {},
     "output_type": "execute_result"
    }
   ],
   "source": [
    "df.isnull().sum()"
   ]
  },
  {
   "cell_type": "code",
   "execution_count": 199,
   "metadata": {
    "scrolled": true
   },
   "outputs": [
    {
     "data": {
      "text/plain": [
       "id                         int64\n",
       "popularity               float64\n",
       "budget                     int64\n",
       "revenue                    int64\n",
       "original_title            object\n",
       "director                  object\n",
       "runtime                    int16\n",
       "genres                    object\n",
       "release_date      datetime64[ns]\n",
       "vote_count                 int32\n",
       "vote_average             float64\n",
       "release_year               int64\n",
       "budget_adj               float64\n",
       "revenue_adj              float64\n",
       "dtype: object"
      ]
     },
     "execution_count": 199,
     "metadata": {},
     "output_type": "execute_result"
    }
   ],
   "source": [
    "df.dtypes"
   ]
  },
  {
   "cell_type": "code",
   "execution_count": 200,
   "metadata": {},
   "outputs": [
    {
     "data": {
      "text/plain": [
       "0"
      ]
     },
     "execution_count": 200,
     "metadata": {},
     "output_type": "execute_result"
    }
   ],
   "source": [
    "df.duplicated().sum()"
   ]
  },
  {
   "cell_type": "markdown",
   "metadata": {},
   "source": [
    "The dataset has now been successfully cleaned and is ready for analysis. After performing data cleaning, we have ensured that:\n",
    "\n",
    "- **No missing values remain in critical columns.**  \n",
    "- **Unnecessary columns have been removed.**  \n",
    "- **All data types are correctly formatted and optimized for memory efficiency.**  \n",
    "- **Duplicate rows have been removed, ensuring data consistency.**  \n",
    "\n",
    "With a fully cleaned dataset, we can now proceed to the **Exploratory Data Analysis (EDA)** phase to explore trends and answer our research questions.\n",
    "\n",
    "---"
   ]
  },
  {
   "cell_type": "markdown",
   "metadata": {},
   "source": [
    "<a id='eda'></a>\n",
    "## Exploratory Data Analysis\n",
    "\n",
    "### Question 1: Which genres are most popular from year to year? \n",
    "To answer this question, we used **data cleaning, analysis, and multiple visualizations** to explore the popularity of different movie genres across different years.\n",
    "\n",
    "---\n",
    "\n",
    "#### Step 1: Preparing the Data\n",
    "##### Issue: Multi-Genre Movies Were Stored in a Single Row  \n",
    "- The `genres` column contained multiple genres separated by a pipe (`|`).\n",
    "- This made it difficult to analyze each genre individually.\n",
    "\n",
    "##### Solution: Splitting Genres Using `.explode()`\n",
    "- We split the `genres` column so that each genre gets its own row.\n",
    "- This ensured that movies with multiple genres were counted in each category separately."
   ]
  },
  {
   "cell_type": "code",
   "execution_count": 201,
   "metadata": {
    "scrolled": true
   },
   "outputs": [
    {
     "data": {
      "text/html": [
       "<div>\n",
       "<style scoped>\n",
       "    .dataframe tbody tr th:only-of-type {\n",
       "        vertical-align: middle;\n",
       "    }\n",
       "\n",
       "    .dataframe tbody tr th {\n",
       "        vertical-align: top;\n",
       "    }\n",
       "\n",
       "    .dataframe thead th {\n",
       "        text-align: right;\n",
       "    }\n",
       "</style>\n",
       "<table border=\"1\" class=\"dataframe\">\n",
       "  <thead>\n",
       "    <tr style=\"text-align: right;\">\n",
       "      <th></th>\n",
       "      <th>id</th>\n",
       "      <th>popularity</th>\n",
       "      <th>budget</th>\n",
       "      <th>revenue</th>\n",
       "      <th>original_title</th>\n",
       "      <th>director</th>\n",
       "      <th>runtime</th>\n",
       "      <th>genres</th>\n",
       "      <th>release_date</th>\n",
       "      <th>vote_count</th>\n",
       "      <th>vote_average</th>\n",
       "      <th>release_year</th>\n",
       "      <th>budget_adj</th>\n",
       "      <th>revenue_adj</th>\n",
       "    </tr>\n",
       "  </thead>\n",
       "  <tbody>\n",
       "    <tr>\n",
       "      <th>0</th>\n",
       "      <td>135397</td>\n",
       "      <td>32.985763</td>\n",
       "      <td>150000000</td>\n",
       "      <td>1513528810</td>\n",
       "      <td>Jurassic World</td>\n",
       "      <td>Colin Trevorrow</td>\n",
       "      <td>124</td>\n",
       "      <td>Action</td>\n",
       "      <td>2015-06-09</td>\n",
       "      <td>5562</td>\n",
       "      <td>6.5</td>\n",
       "      <td>2015</td>\n",
       "      <td>1.379999e+08</td>\n",
       "      <td>1.392446e+09</td>\n",
       "    </tr>\n",
       "    <tr>\n",
       "      <th>0</th>\n",
       "      <td>135397</td>\n",
       "      <td>32.985763</td>\n",
       "      <td>150000000</td>\n",
       "      <td>1513528810</td>\n",
       "      <td>Jurassic World</td>\n",
       "      <td>Colin Trevorrow</td>\n",
       "      <td>124</td>\n",
       "      <td>Adventure</td>\n",
       "      <td>2015-06-09</td>\n",
       "      <td>5562</td>\n",
       "      <td>6.5</td>\n",
       "      <td>2015</td>\n",
       "      <td>1.379999e+08</td>\n",
       "      <td>1.392446e+09</td>\n",
       "    </tr>\n",
       "    <tr>\n",
       "      <th>0</th>\n",
       "      <td>135397</td>\n",
       "      <td>32.985763</td>\n",
       "      <td>150000000</td>\n",
       "      <td>1513528810</td>\n",
       "      <td>Jurassic World</td>\n",
       "      <td>Colin Trevorrow</td>\n",
       "      <td>124</td>\n",
       "      <td>Science Fiction</td>\n",
       "      <td>2015-06-09</td>\n",
       "      <td>5562</td>\n",
       "      <td>6.5</td>\n",
       "      <td>2015</td>\n",
       "      <td>1.379999e+08</td>\n",
       "      <td>1.392446e+09</td>\n",
       "    </tr>\n",
       "    <tr>\n",
       "      <th>0</th>\n",
       "      <td>135397</td>\n",
       "      <td>32.985763</td>\n",
       "      <td>150000000</td>\n",
       "      <td>1513528810</td>\n",
       "      <td>Jurassic World</td>\n",
       "      <td>Colin Trevorrow</td>\n",
       "      <td>124</td>\n",
       "      <td>Thriller</td>\n",
       "      <td>2015-06-09</td>\n",
       "      <td>5562</td>\n",
       "      <td>6.5</td>\n",
       "      <td>2015</td>\n",
       "      <td>1.379999e+08</td>\n",
       "      <td>1.392446e+09</td>\n",
       "    </tr>\n",
       "    <tr>\n",
       "      <th>1</th>\n",
       "      <td>76341</td>\n",
       "      <td>28.419936</td>\n",
       "      <td>150000000</td>\n",
       "      <td>378436354</td>\n",
       "      <td>Mad Max: Fury Road</td>\n",
       "      <td>George Miller</td>\n",
       "      <td>120</td>\n",
       "      <td>Action</td>\n",
       "      <td>2015-05-13</td>\n",
       "      <td>6185</td>\n",
       "      <td>7.1</td>\n",
       "      <td>2015</td>\n",
       "      <td>1.379999e+08</td>\n",
       "      <td>3.481613e+08</td>\n",
       "    </tr>\n",
       "  </tbody>\n",
       "</table>\n",
       "</div>"
      ],
      "text/plain": [
       "       id  popularity     budget     revenue      original_title  \\\n",
       "0  135397   32.985763  150000000  1513528810      Jurassic World   \n",
       "0  135397   32.985763  150000000  1513528810      Jurassic World   \n",
       "0  135397   32.985763  150000000  1513528810      Jurassic World   \n",
       "0  135397   32.985763  150000000  1513528810      Jurassic World   \n",
       "1   76341   28.419936  150000000   378436354  Mad Max: Fury Road   \n",
       "\n",
       "          director  runtime           genres release_date  vote_count  \\\n",
       "0  Colin Trevorrow      124           Action   2015-06-09        5562   \n",
       "0  Colin Trevorrow      124        Adventure   2015-06-09        5562   \n",
       "0  Colin Trevorrow      124  Science Fiction   2015-06-09        5562   \n",
       "0  Colin Trevorrow      124         Thriller   2015-06-09        5562   \n",
       "1    George Miller      120           Action   2015-05-13        6185   \n",
       "\n",
       "   vote_average  release_year    budget_adj   revenue_adj  \n",
       "0           6.5          2015  1.379999e+08  1.392446e+09  \n",
       "0           6.5          2015  1.379999e+08  1.392446e+09  \n",
       "0           6.5          2015  1.379999e+08  1.392446e+09  \n",
       "0           6.5          2015  1.379999e+08  1.392446e+09  \n",
       "1           7.1          2015  1.379999e+08  3.481613e+08  "
      ]
     },
     "execution_count": 201,
     "metadata": {},
     "output_type": "execute_result"
    }
   ],
   "source": [
    "# Split Multi-Genre Movies\n",
    "df_exploded = df.copy()  # Create a copy to avoid modifying original data\n",
    "\n",
    "# Convert genre column into a list by splitting on '|', then explode\n",
    "df_exploded['genres'] = df_exploded['genres'].str.split('|')\n",
    "df_exploded = df_exploded.explode('genres')\n",
    "\n",
    "# Confirm changes\n",
    "df_exploded.head()"
   ]
  },
  {
   "cell_type": "code",
   "execution_count": 202,
   "metadata": {
    "scrolled": false
   },
   "outputs": [
    {
     "data": {
      "text/plain": [
       "Drama              4754\n",
       "Comedy             3782\n",
       "Thriller           2904\n",
       "Action             2378\n",
       "Romance            1708\n",
       "Horror             1636\n",
       "Adventure          1466\n",
       "Crime              1353\n",
       "Science Fiction    1223\n",
       "Family             1223\n",
       "Fantasy             912\n",
       "Mystery             809\n",
       "Animation           692\n",
       "Documentary         509\n",
       "Music               402\n",
       "History             332\n",
       "War                 270\n",
       "Foreign             185\n",
       "Western             164\n",
       "TV Movie            162\n",
       "Name: genres, dtype: int64"
      ]
     },
     "execution_count": 202,
     "metadata": {},
     "output_type": "execute_result"
    }
   ],
   "source": [
    "# Count the number of movies per genre\n",
    "genre_counts = df_exploded['genres'].value_counts()\n",
    "\n",
    "# Display the top genres\n",
    "genre_counts"
   ]
  },
  {
   "cell_type": "markdown",
   "metadata": {},
   "source": [
    "---\n",
    "\n",
    "#### Step 2: Identifying Popular Genres\n",
    "After preparing the data, we analyzed genre popularity using two different approaches.\n",
    "\n",
    "##### 1. Pie Chart – Overall Most Popular Genres\n",
    "- **Goal:** Identify the most popular genres based on average popularity scores.\n",
    "- **Method:** We calculated the mean popularity for each genre and displayed the top 5 genres using a pie chart.\n",
    "- **Insight:** This visualization gave us a high-level overview of which genres consistently have higher popularity ratings."
   ]
  },
  {
   "cell_type": "code",
   "execution_count": 203,
   "metadata": {
    "scrolled": false
   },
   "outputs": [
    {
     "data": {
      "image/png": "[encoded data removed]",
      "text/plain": [
       "<Figure size 600x300 with 1 Axes>"
      ]
     },
     "metadata": {},
     "output_type": "display_data"
    }
   ],
   "source": [
    "# Calculate Average Popularity for Each Genre\n",
    "genre_popularity = df_exploded.groupby('genres')['popularity'].mean().sort_values(ascending=False)\n",
    "\n",
    "# Plot Pie Chart for Top 5 Popular Genres\n",
    "plt.figure(figsize=(6, 3))\n",
    "top_5_genres = genre_popularity.head(5)\n",
    "\n",
    "plt.pie(top_5_genres, labels=top_5_genres.index, autopct='%1.1f%%', colors=['gold', 'skyblue', 'lightcoral', 'lightgreen', 'orange'])\n",
    "plt.title('Overall Most Popular Movie Genres', fontsize=14)\n",
    "plt.show()"
   ]
  },
  {
   "cell_type": "markdown",
   "metadata": {},
   "source": [
    "##### 2. Count Plot – Most Popular Genre in Each Year\n",
    "- **Goal:** Find the most popular genre in each year and see which genres dominated over time.\n",
    "- **Method:**  \n",
    "  - We grouped the dataset by release year and calculated the most popular genre for each year.\n",
    "  - Using `idxmax()`, we identified the highest-rated genre per year.\n",
    "  - A count plot was used to count how many times each genre was the most popular across different years.\n",
    "- **Insight:**  \n",
    "  - This visualization helped us see trends over time.  \n",
    "  - Some genres were consistently the most popular, while others had temporary spikes in popularity."
   ]
  },
  {
   "cell_type": "code",
   "execution_count": 204,
   "metadata": {
    "scrolled": false
   },
   "outputs": [
    {
     "data": {
      "image/png": "[encoded data removed]",
      "text/plain": [
       "<Figure size 600x300 with 1 Axes>"
      ]
     },
     "metadata": {},
     "output_type": "display_data"
    }
   ],
   "source": [
    "# Calculate Yearly Popularity for Each Genre\n",
    "genre_yearly_popularity = df_exploded.groupby(['release_year', 'genres'])['popularity'].mean().reset_index()\n",
    "\n",
    "# Find the Most Popular Genre for Each Year\n",
    "most_popular_per_year = genre_yearly_popularity.loc[genre_yearly_popularity.groupby('release_year')['popularity'].idxmax()]\n",
    "\n",
    "# Count Plot - Most Popular Genre Per Year\n",
    "plt.figure(figsize=(6,3))\n",
    "sns.countplot(data=most_popular_per_year, y='genres', order=most_popular_per_year['genres'].value_counts().index)\n",
    "\n",
    "plt.title('Count of Most Popular Genres by Year', fontsize=14)\n",
    "plt.xlabel('Number of Years as Most Popular', fontsize=12)\n",
    "plt.ylabel('Genre', fontsize=12)\n",
    "plt.show()"
   ]
  },
  {
   "cell_type": "markdown",
   "metadata": {},
   "source": [
    "---\n",
    "#### Summary of Findings\n",
    "\n",
    "- The **pie chart** analysis of average popularity scores across genres reveals that **Adventure (23.4%)**, **Science Fiction (20.3%)**, and **Fantasy (20.1%)** are among the most popular genres.  \n",
    "- The **count plot** of the most popular genres by year shows that **Adventure** appears most frequently as the top genre, followed by **Animation** and **Fantasy**.  \n",
    "- Certain genres, such as **Adventure, Animation, and Fantasy**, have remained consistently popular over the years.  \n",
    "- Other genres, including **Crime, War, and Music**, occasionally emerge as the most popular in specific years but do not dominate consistently.  \n",
    "\n",
    "These insights highlight that **Adventure and Fantasy genres have maintained strong audience interest over time**, making them key players in the movie industry.\n",
    "\n",
    "\n",
    "---"
   ]
  },
  {
   "cell_type": "markdown",
   "metadata": {},
   "source": [
    "### Question 2: What kinds of properties are associated with movies that have high revenues?\n",
    "\n",
    "To identify the key factors influencing movie revenue, we analyzed high-revenue films across various attributes, including **budget, runtime, popularity, and vote count**."
   ]
  },
  {
   "cell_type": "markdown",
   "metadata": {},
   "source": [
    "---\n",
    "\n",
    "#### Step 1: Defining High-Revenue Movies\n",
    "To focus on **high-revenue movies**, we filtered the dataset using the **75th percentile (top 25%)** of adjusted revenue (`revenue_adj`). This ensures we analyze films that are significantly successful in terms of revenue."
   ]
  },
  {
   "cell_type": "code",
   "execution_count": 205,
   "metadata": {
    "scrolled": true,
    "tags": []
   },
   "outputs": [
    {
     "data": {
      "text/html": [
       "<div>\n",
       "<style scoped>\n",
       "    .dataframe tbody tr th:only-of-type {\n",
       "        vertical-align: middle;\n",
       "    }\n",
       "\n",
       "    .dataframe tbody tr th {\n",
       "        vertical-align: top;\n",
       "    }\n",
       "\n",
       "    .dataframe thead th {\n",
       "        text-align: right;\n",
       "    }\n",
       "</style>\n",
       "<table border=\"1\" class=\"dataframe\">\n",
       "  <thead>\n",
       "    <tr style=\"text-align: right;\">\n",
       "      <th></th>\n",
       "      <th>id</th>\n",
       "      <th>popularity</th>\n",
       "      <th>budget</th>\n",
       "      <th>revenue</th>\n",
       "      <th>original_title</th>\n",
       "      <th>director</th>\n",
       "      <th>runtime</th>\n",
       "      <th>genres</th>\n",
       "      <th>release_date</th>\n",
       "      <th>vote_count</th>\n",
       "      <th>vote_average</th>\n",
       "      <th>release_year</th>\n",
       "      <th>budget_adj</th>\n",
       "      <th>revenue_adj</th>\n",
       "    </tr>\n",
       "  </thead>\n",
       "  <tbody>\n",
       "    <tr>\n",
       "      <th>0</th>\n",
       "      <td>135397</td>\n",
       "      <td>32.985763</td>\n",
       "      <td>150000000</td>\n",
       "      <td>1513528810</td>\n",
       "      <td>Jurassic World</td>\n",
       "      <td>Colin Trevorrow</td>\n",
       "      <td>124</td>\n",
       "      <td>Action|Adventure|Science Fiction|Thriller</td>\n",
       "      <td>2015-06-09</td>\n",
       "      <td>5562</td>\n",
       "      <td>6.5</td>\n",
       "      <td>2015</td>\n",
       "      <td>1.379999e+08</td>\n",
       "      <td>1.392446e+09</td>\n",
       "    </tr>\n",
       "    <tr>\n",
       "      <th>1</th>\n",
       "      <td>76341</td>\n",
       "      <td>28.419936</td>\n",
       "      <td>150000000</td>\n",
       "      <td>378436354</td>\n",
       "      <td>Mad Max: Fury Road</td>\n",
       "      <td>George Miller</td>\n",
       "      <td>120</td>\n",
       "      <td>Action|Adventure|Science Fiction|Thriller</td>\n",
       "      <td>2015-05-13</td>\n",
       "      <td>6185</td>\n",
       "      <td>7.1</td>\n",
       "      <td>2015</td>\n",
       "      <td>1.379999e+08</td>\n",
       "      <td>3.481613e+08</td>\n",
       "    </tr>\n",
       "    <tr>\n",
       "      <th>2</th>\n",
       "      <td>262500</td>\n",
       "      <td>13.112507</td>\n",
       "      <td>110000000</td>\n",
       "      <td>295238201</td>\n",
       "      <td>Insurgent</td>\n",
       "      <td>Robert Schwentke</td>\n",
       "      <td>119</td>\n",
       "      <td>Adventure|Science Fiction|Thriller</td>\n",
       "      <td>2015-03-18</td>\n",
       "      <td>2480</td>\n",
       "      <td>6.3</td>\n",
       "      <td>2015</td>\n",
       "      <td>1.012000e+08</td>\n",
       "      <td>2.716190e+08</td>\n",
       "    </tr>\n",
       "    <tr>\n",
       "      <th>3</th>\n",
       "      <td>140607</td>\n",
       "      <td>11.173104</td>\n",
       "      <td>200000000</td>\n",
       "      <td>2068178225</td>\n",
       "      <td>Star Wars: The Force Awakens</td>\n",
       "      <td>J.J. Abrams</td>\n",
       "      <td>136</td>\n",
       "      <td>Action|Adventure|Science Fiction|Fantasy</td>\n",
       "      <td>2015-12-15</td>\n",
       "      <td>5292</td>\n",
       "      <td>7.5</td>\n",
       "      <td>2015</td>\n",
       "      <td>1.839999e+08</td>\n",
       "      <td>1.902723e+09</td>\n",
       "    </tr>\n",
       "    <tr>\n",
       "      <th>4</th>\n",
       "      <td>168259</td>\n",
       "      <td>9.335014</td>\n",
       "      <td>190000000</td>\n",
       "      <td>1506249360</td>\n",
       "      <td>Furious 7</td>\n",
       "      <td>James Wan</td>\n",
       "      <td>137</td>\n",
       "      <td>Action|Crime|Thriller</td>\n",
       "      <td>2015-04-01</td>\n",
       "      <td>2947</td>\n",
       "      <td>7.3</td>\n",
       "      <td>2015</td>\n",
       "      <td>1.747999e+08</td>\n",
       "      <td>1.385749e+09</td>\n",
       "    </tr>\n",
       "  </tbody>\n",
       "</table>\n",
       "</div>"
      ],
      "text/plain": [
       "       id  popularity     budget     revenue                original_title  \\\n",
       "0  135397   32.985763  150000000  1513528810                Jurassic World   \n",
       "1   76341   28.419936  150000000   378436354            Mad Max: Fury Road   \n",
       "2  262500   13.112507  110000000   295238201                     Insurgent   \n",
       "3  140607   11.173104  200000000  2068178225  Star Wars: The Force Awakens   \n",
       "4  168259    9.335014  190000000  1506249360                     Furious 7   \n",
       "\n",
       "           director  runtime                                     genres  \\\n",
       "0   Colin Trevorrow      124  Action|Adventure|Science Fiction|Thriller   \n",
       "1     George Miller      120  Action|Adventure|Science Fiction|Thriller   \n",
       "2  Robert Schwentke      119         Adventure|Science Fiction|Thriller   \n",
       "3       J.J. Abrams      136   Action|Adventure|Science Fiction|Fantasy   \n",
       "4         James Wan      137                      Action|Crime|Thriller   \n",
       "\n",
       "  release_date  vote_count  vote_average  release_year    budget_adj  \\\n",
       "0   2015-06-09        5562           6.5          2015  1.379999e+08   \n",
       "1   2015-05-13        6185           7.1          2015  1.379999e+08   \n",
       "2   2015-03-18        2480           6.3          2015  1.012000e+08   \n",
       "3   2015-12-15        5292           7.5          2015  1.839999e+08   \n",
       "4   2015-04-01        2947           7.3          2015  1.747999e+08   \n",
       "\n",
       "    revenue_adj  \n",
       "0  1.392446e+09  \n",
       "1  3.481613e+08  \n",
       "2  2.716190e+08  \n",
       "3  1.902723e+09  \n",
       "4  1.385749e+09  "
      ]
     },
     "execution_count": 205,
     "metadata": {},
     "output_type": "execute_result"
    }
   ],
   "source": [
    "# Calculate the 75th percentile for adjusted revenue\n",
    "high_revenue = df['revenue_adj'].quantile(0.75)\n",
    "\n",
    "# Filter movies with high revenue\n",
    "df_high_revenue = df[df['revenue_adj'] >= high_revenue]\n",
    "\n",
    "# Display summary\n",
    "df_high_revenue.head()"
   ]
  },
  {
   "cell_type": "markdown",
   "metadata": {},
   "source": [
    "---\n",
    "#### Step 2: Analyzing Properties of High-Revenue Movies\n",
    "We examined how **budget, runtime, popularity, and vote count** relate to high revenues using different visualizations."
   ]
  },
  {
   "cell_type": "markdown",
   "metadata": {},
   "source": [
    "##### **Budget vs. Revenue**\n",
    "- A **bar chart** was used to categorize movies into **Low, Medium, High, and Very High budget groups**.\n",
    "- Findings show a **clear positive correlation** between budget and revenue.\n",
    "- **Movies with the highest budgets tend to generate significantly higher revenue.**\n",
    "\n",
    "**Additionally, a custom function was created to categorize movies based on their budget:**\n",
    "- **`categorize_budget()`**: Groups movies into **Low, Medium, High, and Very High budget categories** based on their adjusted budget."
   ]
  },
  {
   "cell_type": "code",
   "execution_count": 206,
   "metadata": {},
   "outputs": [
    {
     "data": {
      "image/png": "[encoded data removed]",
      "text/plain": [
       "<Figure size 600x300 with 1 Axes>"
      ]
     },
     "metadata": {},
     "output_type": "display_data"
    }
   ],
   "source": [
    "# Make a copy\n",
    "df_high_revenue = df_high_revenue.copy()\n",
    "\n",
    "# Define budget categories\n",
    "def categorize_budget(value):\n",
    "    if value < 10_000_000:\n",
    "        return 'Low'\n",
    "    elif value < 50_000_000:\n",
    "        return 'Medium'\n",
    "    elif value < 100_000_000:\n",
    "        return 'High'\n",
    "    else:\n",
    "        return 'Very High'\n",
    "\n",
    "df_high_revenue['budget_category'] = df_high_revenue['budget_adj'].apply(categorize_budget)\n",
    "\n",
    "# Bar plot: Budget categories vs Average Revenue\n",
    "plt.figure(figsize=(6,3))\n",
    "sns.barplot(data=df_high_revenue, x='budget_category', y='revenue_adj', palette=\"pastel\", order=['Low', 'Medium', 'High', 'Very High'])\n",
    "\n",
    "plt.title(\"Average Revenue by Budget Category\", fontsize=14)\n",
    "plt.xlabel(\"Budget Category\", fontsize=12)\n",
    "plt.ylabel(\"Average Revenue\", fontsize=12)\n",
    "plt.grid(axis='y', linestyle='--', alpha=0.6)\n",
    "plt.show()"
   ]
  },
  {
   "cell_type": "markdown",
   "metadata": {},
   "source": [
    "##### **Runtime vs. Revenue**\n",
    "- Another **bar chart** categorized movies based on runtime (Short, Medium, Long, and Very Long).\n",
    "- **Longer movies tend to earn higher revenue**, with the highest earnings seen in the **Very Long category**.\n",
    "\n",
    "**To support this analysis, another custom function was created:**\n",
    "- **`categorize_runtime()`**: Classifies movies into **Short, Medium, Long, and Very Long** based on their runtime."
   ]
  },
  {
   "cell_type": "code",
   "execution_count": 207,
   "metadata": {
    "scrolled": true
   },
   "outputs": [
    {
     "data": {
      "image/png": "[encoded data removed]",
      "text/plain": [
       "<Figure size 600x300 with 1 Axes>"
      ]
     },
     "metadata": {},
     "output_type": "display_data"
    }
   ],
   "source": [
    "# Define runtime categories\n",
    "def categorize_runtime(value):\n",
    "    if value < 90:\n",
    "        return 'Short'\n",
    "    elif value < 120:\n",
    "        return 'Medium'\n",
    "    elif value < 150:\n",
    "        return 'Long'\n",
    "    else:\n",
    "        return 'Very Long'\n",
    "\n",
    "df_high_revenue['runtime_category'] = df_high_revenue['runtime'].apply(categorize_runtime)\n",
    "\n",
    "# Bar plot: Runtime categories vs Average Revenue\n",
    "plt.figure(figsize=(6,3))\n",
    "sns.barplot(data=df_high_revenue, x='runtime_category', y='revenue_adj', palette=\"muted\", order=['Short', 'Medium', 'Long', 'Very Long'])\n",
    "\n",
    "plt.title(\"Average Revenue by Runtime Category\", fontsize=14)\n",
    "plt.xlabel(\"Runtime Category\", fontsize=12)\n",
    "plt.ylabel(\"Average Revenue\", fontsize=12)\n",
    "plt.grid(axis='y', linestyle='--', alpha=0.6)\n",
    "plt.show()"
   ]
  },
  {
   "cell_type": "markdown",
   "metadata": {},
   "source": [
    "##### **Popularity Distribution in High-Revenue Movies**\n",
    "- A **histogram** was used to analyze the **distribution of popularity scores**.\n",
    "- Most high-revenue movies have **low to moderate popularity scores**, with **very few exceeding a popularity score of 10**.\n",
    "- The histogram shows a **right-skewed distribution**, meaning that the majority of high-revenue movies have lower popularity scores, while only a few movies achieve exceptionally high popularity.\n",
    "- This suggests that while popularity plays a role, extreme popularity is not a strict requirement for high revenue."
   ]
  },
  {
   "cell_type": "code",
   "execution_count": 208,
   "metadata": {
    "scrolled": true
   },
   "outputs": [
    {
     "data": {
      "image/png": "[encoded data removed]",
      "text/plain": [
       "<Figure size 600x300 with 1 Axes>"
      ]
     },
     "metadata": {},
     "output_type": "display_data"
    }
   ],
   "source": [
    "# Histogram: Revenue distribution across different popularity scores\n",
    "plt.figure(figsize=(6,3))\n",
    "sns.histplot(df_high_revenue['popularity'], bins=30, color=\"royalblue\")\n",
    "\n",
    "plt.title(\"Distribution of Popularity in High-Revenue Movies\", fontsize=14)\n",
    "plt.xlabel(\"Popularity Score\", fontsize=12)\n",
    "plt.ylabel(\"Frequency\", fontsize=12)\n",
    "plt.grid(axis='y', linestyle='--', alpha=0.6)\n",
    "plt.show()"
   ]
  },
  {
   "cell_type": "markdown",
   "metadata": {},
   "source": [
    "##### **Vote Count Distribution in High-Revenue Movies**\n",
    "- A **histogram** of vote counts revealed that the majority of high-revenue movies **receive a moderate number of votes**.\n",
    "- The histogram also exhibits a **right-skewed distribution**, where most movies have relatively low vote counts, but a few movies receive significantly high numbers of votes.\n",
    "- This indicates that while most high-revenue movies do not need an overwhelming number of votes, a **small portion of films with extremely high vote counts** may be significantly influencing overall revenue."
   ]
  },
  {
   "cell_type": "code",
   "execution_count": 209,
   "metadata": {
    "scrolled": true
   },
   "outputs": [
    {
     "data": {
      "image/png": "[encoded data removed]",
      "text/plain": [
       "<Figure size 600x300 with 1 Axes>"
      ]
     },
     "metadata": {},
     "output_type": "display_data"
    }
   ],
   "source": [
    "# Histogram: Distribution of vote counts in high-revenue movies\n",
    "plt.figure(figsize=(6,3))\n",
    "sns.histplot(df_high_revenue['vote_count'], bins=30, color=\"royalblue\")\n",
    "\n",
    "plt.title(\"Vote Count Distribution in High-Revenue Movies\", fontsize=14)\n",
    "plt.xlabel(\"Number of Votes\", fontsize=12)\n",
    "plt.ylabel(\"Frequency\", fontsize=12)\n",
    "plt.grid(axis='y', linestyle='--', alpha=0.6)\n",
    "plt.show()"
   ]
  },
  {
   "cell_type": "markdown",
   "metadata": {},
   "source": [
    "---\n",
    "#### Summary of Findings\n",
    "From these findings, we observe:\n",
    "- **Higher budgets and longer runtimes are strong indicators of higher revenue.**\n",
    "- **Popularity and vote count distributions** suggest that while audience engagement is important, most high-revenue movies do not rely solely on extreme popularity or vote counts.\n",
    "- **The biggest predictor of revenue remains budget size**, with **higher investment leading to higher financial returns**.\n",
    "- **Right-skewed distributions** in popularity and vote count suggest that while most high-revenue movies fall in a moderate range, a few highly popular movies contribute disproportionately to overall revenue.\n",
    "\n",
    "This analysis helps in understanding the primary factors associated with successful, high-earning movies.\n",
    "\n",
    "---"
   ]
  },
  {
   "cell_type": "markdown",
   "metadata": {},
   "source": [
    "<a id='conclusions'></a>\n",
    "## Conclusions\n",
    "\n",
    "### Summary of Findings  \n",
    "\n",
    "In this analysis, we explored two key questions related to **movie popularity and revenue**:  \n",
    "\n",
    "**1. Which genres are most popular from year to year?**  \n",
    "- Using **genre-based filtering and multiple visualizations**, we observed that **Adventure, Science Fiction, Fantasy, and Animation** were consistently among the most popular genres.  \n",
    "- The **yearly popularity trend analysis** highlighted how audience preferences shifted over time.  \n",
    "- The **genre count visualization** revealed which genres appeared most frequently as the most popular in a given year.  \n",
    "\n",
    "**2. What kinds of properties are associated with movies that have high revenues?**  \n",
    "- We **categorized movies based on budget and runtime** to analyze their impact on revenue.  \n",
    "- **Higher budgets consistently led to higher revenues**, suggesting that production investment strongly correlates with financial success.  \n",
    "- **Longer runtime movies** tended to generate higher revenue, but there were still some shorter films with strong earnings.  \n",
    "- **Popularity and vote count histograms** revealed a **right-skewed distribution**, showing that while most high-revenue movies have moderate popularity and vote counts, a few outliers receive extremely high engagement.  \n",
    "\n",
    "---\n",
    "\n",
    "### Limitations  \n",
    "\n",
    "While this analysis provides **valuable insights**, there are several **limitations** to consider:  \n",
    "\n",
    "- **No direct causal relationships**: This study is **correlational**, meaning we cannot definitively claim that certain properties **cause** higher revenue or popularity.  \n",
    "- **Inflation Adjustments**: The dataset provides **adjusted revenue**, but changes in audience size, streaming trends, and global box office growth over time were not accounted for.  \n",
    "- **External Factors**: Marketing, star power, audience reception, and **global events** significantly impact a movie's performance but were **not included** in the dataset.  \n",
    "- **Missing Data**: Some columns had missing values that we removed, which may have affected the analysis.  \n",
    "\n",
    "---\n",
    "\n",
    "### Future Considerations  \n",
    "\n",
    "To expand this analysis further, future work could:  \n",
    "\n",
    "- **Incorporate audience ratings and reviews** to understand the relationship between **critic scores and revenue**.  \n",
    "- **Analyze streaming-era movie trends** to see how modern platforms like **Netflix and Disney+** impact movie success.  \n",
    "- **Study marketing spend vs. revenue** to identify how advertising influences box office returns.  \n",
    "- **Use machine learning models** to predict revenue based on various movie properties.  \n",
    "\n",
    "---\n",
    "\n",
    "### Final Remarks  \n",
    "\n",
    "This project provided **insights into movie trends**, revealing how **genre popularity** and **key production factors** contribute to a movie’s success. While we identified **strong correlations**, further research would be needed to draw deeper conclusions about what truly drives **financial and audience success in the film industry**.  \n"
   ]
  },
  {
   "cell_type": "code",
   "execution_count": 210,
   "metadata": {
    "scrolled": true,
    "tags": []
   },
   "outputs": [
    {
     "name": "stdout",
     "output_type": "stream",
     "text": [
      "[NbConvertApp] Converting notebook Investigate_a_Dataset.ipynb to html\n",
      "[NbConvertApp] WARNING | Alternative text is missing on 6 image(s).\n",
      "[NbConvertApp] Writing 571811 bytes to Investigate_a_Dataset.html\n"
     ]
    }
   ],
   "source": [
    "# Running this cell will execute a bash command to convert this notebook to an .html file\n",
    "!python -m nbconvert --to html Investigate_a_Dataset.ipynb"
   ]
  }
 ],
 "metadata": {
  "kernelspec": {
   "display_name": "Python 3 (ipykernel)",
   "language": "python",
   "name": "python3"
  },
  "language_info": {
   "codemirror_mode": {
    "name": "ipython",
    "version": 3
   },
   "file_extension": ".py",
   "mimetype": "text/x-python",
   "name": "python",
   "nbconvert_exporter": "python",
   "pygments_lexer": "ipython3",
   "version": "3.10.13"
  }
 },
 "nbformat": 4,
 "nbformat_minor": 4
}
